{
 "cells": [
  {
   "cell_type": "code",
   "execution_count": 1,
   "metadata": {},
   "outputs": [
    {
     "data": {
      "text/plain": [
       "{0: 'ENDMARKER',\n",
       " 1: 'NAME',\n",
       " 2: 'NUMBER',\n",
       " 3: 'STRING',\n",
       " 4: 'NEWLINE',\n",
       " 5: 'INDENT',\n",
       " 6: 'DEDENT',\n",
       " 7: 'LPAR',\n",
       " 8: 'RPAR',\n",
       " 9: 'LSQB',\n",
       " 10: 'RSQB',\n",
       " 11: 'COLON',\n",
       " 12: 'COMMA',\n",
       " 13: 'SEMI',\n",
       " 14: 'PLUS',\n",
       " 15: 'MINUS',\n",
       " 16: 'STAR',\n",
       " 17: 'SLASH',\n",
       " 18: 'VBAR',\n",
       " 19: 'AMPER',\n",
       " 20: 'LESS',\n",
       " 21: 'GREATER',\n",
       " 22: 'EQUAL',\n",
       " 23: 'DOT',\n",
       " 24: 'PERCENT',\n",
       " 25: 'LBRACE',\n",
       " 26: 'RBRACE',\n",
       " 27: 'EQEQUAL',\n",
       " 28: 'NOTEQUAL',\n",
       " 29: 'LESSEQUAL',\n",
       " 30: 'GREATEREQUAL',\n",
       " 31: 'TILDE',\n",
       " 32: 'CIRCUMFLEX',\n",
       " 33: 'LEFTSHIFT',\n",
       " 34: 'RIGHTSHIFT',\n",
       " 35: 'DOUBLESTAR',\n",
       " 36: 'PLUSEQUAL',\n",
       " 37: 'MINEQUAL',\n",
       " 38: 'STAREQUAL',\n",
       " 39: 'SLASHEQUAL',\n",
       " 40: 'PERCENTEQUAL',\n",
       " 41: 'AMPEREQUAL',\n",
       " 42: 'VBAREQUAL',\n",
       " 43: 'CIRCUMFLEXEQUAL',\n",
       " 44: 'LEFTSHIFTEQUAL',\n",
       " 45: 'RIGHTSHIFTEQUAL',\n",
       " 46: 'DOUBLESTAREQUAL',\n",
       " 47: 'DOUBLESLASH',\n",
       " 48: 'DOUBLESLASHEQUAL',\n",
       " 49: 'AT',\n",
       " 50: 'ATEQUAL',\n",
       " 51: 'RARROW',\n",
       " 52: 'ELLIPSIS',\n",
       " 53: 'OP',\n",
       " 54: 'ERRORTOKEN',\n",
       " 55: 'COMMENT',\n",
       " 56: 'NL',\n",
       " 57: 'ENCODING',\n",
       " 58: 'N_TOKENS',\n",
       " 256: 'NT_OFFSET'}"
      ]
     },
     "execution_count": 1,
     "metadata": {},
     "output_type": "execute_result"
    }
   ],
   "source": [
    "import token\n",
    "token.tok_name"
   ]
  },
  {
   "cell_type": "code",
   "execution_count": 2,
   "metadata": {},
   "outputs": [],
   "source": [
    "from tokenize import tokenize"
   ]
  },
  {
   "cell_type": "code",
   "execution_count": 4,
   "metadata": {},
   "outputs": [],
   "source": [
    "from io import BytesIO"
   ]
  },
  {
   "cell_type": "code",
   "execution_count": 5,
   "metadata": {},
   "outputs": [],
   "source": [
    "s=open('test.py').read()"
   ]
  },
  {
   "cell_type": "code",
   "execution_count": 6,
   "metadata": {},
   "outputs": [
    {
     "data": {
      "text/plain": [
       "'def func(a,b):\\n    return a+b\\n\\na=10\\nb=10\\n\\nc=func(a,b)\\nprint(c)\\n\\n'"
      ]
     },
     "execution_count": 6,
     "metadata": {},
     "output_type": "execute_result"
    }
   ],
   "source": [
    "s"
   ]
  },
  {
   "cell_type": "code",
   "execution_count": 7,
   "metadata": {},
   "outputs": [],
   "source": [
    "g=tokenize(BytesIO(s.encode('utf-8')).readline)"
   ]
  },
  {
   "cell_type": "code",
   "execution_count": 8,
   "metadata": {},
   "outputs": [
    {
     "name": "stdout",
     "output_type": "stream",
     "text": [
      "TokenInfo(type=57 (ENCODING), string='utf-8', start=(0, 0), end=(0, 0), line='')\n",
      "TokenInfo(type=1 (NAME), string='def', start=(1, 0), end=(1, 3), line='def func(a,b):\\n')\n",
      "TokenInfo(type=1 (NAME), string='func', start=(1, 4), end=(1, 8), line='def func(a,b):\\n')\n",
      "TokenInfo(type=53 (OP), string='(', start=(1, 8), end=(1, 9), line='def func(a,b):\\n')\n",
      "TokenInfo(type=1 (NAME), string='a', start=(1, 9), end=(1, 10), line='def func(a,b):\\n')\n",
      "TokenInfo(type=53 (OP), string=',', start=(1, 10), end=(1, 11), line='def func(a,b):\\n')\n",
      "TokenInfo(type=1 (NAME), string='b', start=(1, 11), end=(1, 12), line='def func(a,b):\\n')\n",
      "TokenInfo(type=53 (OP), string=')', start=(1, 12), end=(1, 13), line='def func(a,b):\\n')\n",
      "TokenInfo(type=53 (OP), string=':', start=(1, 13), end=(1, 14), line='def func(a,b):\\n')\n",
      "TokenInfo(type=4 (NEWLINE), string='\\n', start=(1, 14), end=(1, 15), line='def func(a,b):\\n')\n",
      "TokenInfo(type=5 (INDENT), string='    ', start=(2, 0), end=(2, 4), line='    return a+b\\n')\n",
      "TokenInfo(type=1 (NAME), string='return', start=(2, 4), end=(2, 10), line='    return a+b\\n')\n",
      "TokenInfo(type=1 (NAME), string='a', start=(2, 11), end=(2, 12), line='    return a+b\\n')\n",
      "TokenInfo(type=53 (OP), string='+', start=(2, 12), end=(2, 13), line='    return a+b\\n')\n",
      "TokenInfo(type=1 (NAME), string='b', start=(2, 13), end=(2, 14), line='    return a+b\\n')\n",
      "TokenInfo(type=4 (NEWLINE), string='\\n', start=(2, 14), end=(2, 15), line='    return a+b\\n')\n",
      "TokenInfo(type=56 (NL), string='\\n', start=(3, 0), end=(3, 1), line='\\n')\n",
      "TokenInfo(type=6 (DEDENT), string='', start=(4, 0), end=(4, 0), line='a=10\\n')\n",
      "TokenInfo(type=1 (NAME), string='a', start=(4, 0), end=(4, 1), line='a=10\\n')\n",
      "TokenInfo(type=53 (OP), string='=', start=(4, 1), end=(4, 2), line='a=10\\n')\n",
      "TokenInfo(type=2 (NUMBER), string='10', start=(4, 2), end=(4, 4), line='a=10\\n')\n",
      "TokenInfo(type=4 (NEWLINE), string='\\n', start=(4, 4), end=(4, 5), line='a=10\\n')\n",
      "TokenInfo(type=1 (NAME), string='b', start=(5, 0), end=(5, 1), line='b=10\\n')\n",
      "TokenInfo(type=53 (OP), string='=', start=(5, 1), end=(5, 2), line='b=10\\n')\n",
      "TokenInfo(type=2 (NUMBER), string='10', start=(5, 2), end=(5, 4), line='b=10\\n')\n",
      "TokenInfo(type=4 (NEWLINE), string='\\n', start=(5, 4), end=(5, 5), line='b=10\\n')\n",
      "TokenInfo(type=56 (NL), string='\\n', start=(6, 0), end=(6, 1), line='\\n')\n",
      "TokenInfo(type=1 (NAME), string='c', start=(7, 0), end=(7, 1), line='c=func(a,b)\\n')\n",
      "TokenInfo(type=53 (OP), string='=', start=(7, 1), end=(7, 2), line='c=func(a,b)\\n')\n",
      "TokenInfo(type=1 (NAME), string='func', start=(7, 2), end=(7, 6), line='c=func(a,b)\\n')\n",
      "TokenInfo(type=53 (OP), string='(', start=(7, 6), end=(7, 7), line='c=func(a,b)\\n')\n",
      "TokenInfo(type=1 (NAME), string='a', start=(7, 7), end=(7, 8), line='c=func(a,b)\\n')\n",
      "TokenInfo(type=53 (OP), string=',', start=(7, 8), end=(7, 9), line='c=func(a,b)\\n')\n",
      "TokenInfo(type=1 (NAME), string='b', start=(7, 9), end=(7, 10), line='c=func(a,b)\\n')\n",
      "TokenInfo(type=53 (OP), string=')', start=(7, 10), end=(7, 11), line='c=func(a,b)\\n')\n",
      "TokenInfo(type=4 (NEWLINE), string='\\n', start=(7, 11), end=(7, 12), line='c=func(a,b)\\n')\n",
      "TokenInfo(type=1 (NAME), string='print', start=(8, 0), end=(8, 5), line='print(c)\\n')\n",
      "TokenInfo(type=53 (OP), string='(', start=(8, 5), end=(8, 6), line='print(c)\\n')\n",
      "TokenInfo(type=1 (NAME), string='c', start=(8, 6), end=(8, 7), line='print(c)\\n')\n",
      "TokenInfo(type=53 (OP), string=')', start=(8, 7), end=(8, 8), line='print(c)\\n')\n",
      "TokenInfo(type=4 (NEWLINE), string='\\n', start=(8, 8), end=(8, 9), line='print(c)\\n')\n",
      "TokenInfo(type=56 (NL), string='\\n', start=(9, 0), end=(9, 1), line='\\n')\n",
      "TokenInfo(type=0 (ENDMARKER), string='', start=(10, 0), end=(10, 0), line='')\n"
     ]
    }
   ],
   "source": [
    "for token in g:\n",
    "    print(token)"
   ]
  },
  {
   "cell_type": "code",
   "execution_count": 9,
   "metadata": {},
   "outputs": [],
   "source": [
    "import ast"
   ]
  },
  {
   "cell_type": "code",
   "execution_count": 10,
   "metadata": {},
   "outputs": [],
   "source": [
    "node = ast.parse(s, 'test.py','exec')"
   ]
  },
  {
   "cell_type": "code",
   "execution_count": 11,
   "metadata": {},
   "outputs": [],
   "source": [
    "g= ast.walk(node)"
   ]
  },
  {
   "cell_type": "code",
   "execution_count": 12,
   "metadata": {},
   "outputs": [
    {
     "name": "stdout",
     "output_type": "stream",
     "text": [
      "<_ast.Module object at 0x0174D3B0>\n",
      "<_ast.FunctionDef object at 0x0174D170>\n",
      "<_ast.Assign object at 0x0174D2F0>\n",
      "<_ast.Assign object at 0x0174D8D0>\n",
      "<_ast.Assign object at 0x0174D890>\n",
      "<_ast.Expr object at 0x0174DA70>\n",
      "<_ast.arguments object at 0x0174D0B0>\n",
      "<_ast.Return object at 0x0174D410>\n",
      "<_ast.Name object at 0x0174D370>\n",
      "<_ast.Num object at 0x0174D8B0>\n",
      "<_ast.Name object at 0x0174D910>\n",
      "<_ast.Num object at 0x0174D870>\n",
      "<_ast.Name object at 0x0174D930>\n",
      "<_ast.Call object at 0x0174D950>\n",
      "<_ast.Call object at 0x0174D970>\n",
      "<_ast.arg object at 0x0174D390>\n",
      "<_ast.arg object at 0x0174D430>\n",
      "<_ast.BinOp object at 0x0174D3D0>\n",
      "<_ast.Store object at 0x03E184F0>\n",
      "<_ast.Store object at 0x03E184F0>\n",
      "<_ast.Store object at 0x03E184F0>\n",
      "<_ast.Name object at 0x0174D9D0>\n",
      "<_ast.Name object at 0x0174D990>\n",
      "<_ast.Name object at 0x0174D9B0>\n",
      "<_ast.Name object at 0x0174DA30>\n",
      "<_ast.Name object at 0x0174DA50>\n",
      "<_ast.Name object at 0x0174D3F0>\n",
      "<_ast.Add object at 0x03E18990>\n",
      "<_ast.Name object at 0x0174D2B0>\n",
      "<_ast.Load object at 0x03E18490>\n",
      "<_ast.Load object at 0x03E18490>\n",
      "<_ast.Load object at 0x03E18490>\n",
      "<_ast.Load object at 0x03E18490>\n",
      "<_ast.Load object at 0x03E18490>\n",
      "<_ast.Load object at 0x03E18490>\n",
      "<_ast.Load object at 0x03E18490>\n"
     ]
    }
   ],
   "source": [
    "for node in g:\n",
    "    print(node)"
   ]
  },
  {
   "cell_type": "code",
   "execution_count": 13,
   "metadata": {},
   "outputs": [],
   "source": [
    "import symtable"
   ]
  },
  {
   "cell_type": "code",
   "execution_count": 14,
   "metadata": {},
   "outputs": [],
   "source": [
    "sym=symtable.symtable(s, 'test.py','exec')"
   ]
  },
  {
   "cell_type": "code",
   "execution_count": 15,
   "metadata": {},
   "outputs": [
    {
     "data": {
      "text/plain": [
       "'top'"
      ]
     },
     "execution_count": 15,
     "metadata": {},
     "output_type": "execute_result"
    }
   ],
   "source": [
    "sym.get_name()"
   ]
  },
  {
   "cell_type": "code",
   "execution_count": 16,
   "metadata": {},
   "outputs": [
    {
     "data": {
      "text/plain": [
       "[<symbol 'func'>, <symbol 'a'>, <symbol 'b'>, <symbol 'c'>, <symbol 'print'>]"
      ]
     },
     "execution_count": 16,
     "metadata": {},
     "output_type": "execute_result"
    }
   ],
   "source": [
    "sym.get_symbols() #함수호출, stack frame 쌓는 것 -> 이것을 보고 참고"
   ]
  },
  {
   "cell_type": "code",
   "execution_count": 17,
   "metadata": {},
   "outputs": [],
   "source": [
    "func_sym=sym.get_children()[0]"
   ]
  },
  {
   "cell_type": "code",
   "execution_count": 19,
   "metadata": {},
   "outputs": [
    {
     "data": {
      "text/plain": [
       "'func'"
      ]
     },
     "execution_count": 19,
     "metadata": {},
     "output_type": "execute_result"
    }
   ],
   "source": [
    "func_sym.get_name()"
   ]
  },
  {
   "cell_type": "code",
   "execution_count": 21,
   "metadata": {},
   "outputs": [
    {
     "data": {
      "text/plain": [
       "[<symbol 'a'>, <symbol 'b'>]"
      ]
     },
     "execution_count": 21,
     "metadata": {},
     "output_type": "execute_result"
    }
   ],
   "source": [
    "func_sym.get_symbols()"
   ]
  },
  {
   "cell_type": "code",
   "execution_count": 22,
   "metadata": {},
   "outputs": [],
   "source": [
    "import dis"
   ]
  },
  {
   "cell_type": "code",
   "execution_count": 23,
   "metadata": {},
   "outputs": [],
   "source": [
    "g=dis.get_instructions(s)"
   ]
  },
  {
   "cell_type": "code",
   "execution_count": 25,
   "metadata": {},
   "outputs": [
    {
     "name": "stdout",
     "output_type": "stream",
     "text": [
      "LOAD_CONST           func\n",
      "MAKE_FUNCTION        0\n",
      "STORE_NAME           func\n",
      "LOAD_CONST           10\n",
      "STORE_NAME           a\n",
      "LOAD_CONST           10\n",
      "STORE_NAME           b\n",
      "LOAD_NAME            func\n",
      "LOAD_NAME            a\n",
      "LOAD_NAME            b\n",
      "CALL_FUNCTION        2\n",
      "STORE_NAME           c\n",
      "LOAD_NAME            print\n",
      "LOAD_NAME            c\n",
      "CALL_FUNCTION        1\n",
      "POP_TOP              None\n",
      "LOAD_CONST           None\n",
      "RETURN_VALUE         None\n"
     ]
    }
   ],
   "source": [
    "for inst in g:\n",
    "    print(inst.opname.ljust(20),end=' ')\n",
    "    print(inst.argval)"
   ]
  },
  {
   "cell_type": "code",
   "execution_count": null,
   "metadata": {},
   "outputs": [],
   "source": []
  }
 ],
 "metadata": {
  "kernelspec": {
   "display_name": "Python 3",
   "language": "python",
   "name": "python3"
  },
  "language_info": {
   "codemirror_mode": {
    "name": "ipython",
    "version": 3
   },
   "file_extension": ".py",
   "mimetype": "text/x-python",
   "name": "python",
   "nbconvert_exporter": "python",
   "pygments_lexer": "ipython3",
   "version": "3.7.2"
  }
 },
 "nbformat": 4,
 "nbformat_minor": 2
}
