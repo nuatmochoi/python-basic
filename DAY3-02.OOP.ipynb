{
 "cells": [
  {
   "cell_type": "code",
   "execution_count": 5,
   "metadata": {},
   "outputs": [
    {
     "ename": "SyntaxError",
     "evalue": "invalid syntax (<ipython-input-5-e04ff686064c>, line 36)",
     "output_type": "error",
     "traceback": [
      "\u001b[1;36m  File \u001b[1;32m\"<ipython-input-5-e04ff686064c>\"\u001b[1;36m, line \u001b[1;32m36\u001b[0m\n\u001b[1;33m    choi=Person(20,\"seongwoo\",20000)\u001b[0m\n\u001b[1;37m       ^\u001b[0m\n\u001b[1;31mSyntaxError\u001b[0m\u001b[1;31m:\u001b[0m invalid syntax\n"
     ]
    }
   ],
   "source": [
    "# 클래스 만들기(정의)\n",
    "class Person:\n",
    "    # 생성자(constructor)\n",
    "    def __init__(self, age, name, money): #객체가 생성될 때 반드시 '1'번은 호출된다. initialize의 줄임말\n",
    "        self.name=age\n",
    "        self.name=name\n",
    "        self.money=money  #instance member들\n",
    "\n",
    "    # 소멸자 : 객체가 메모리에서 사라질 때 반드시 한번 호출하고 사라져야함.\n",
    "    def __del__(self):\n",
    "        pass\n",
    "\n",
    "    def get_money(self, amount):\n",
    "        self.money+=amount\n",
    "\n",
    "    def lose_money(self, amount):\n",
    "        self.moeny-=amount\n",
    "\n",
    "    def get_old(self):\n",
    "        self.age+=1\n",
    "        return self.age\n",
    "    \n",
    "    # 메시지 패싱(message passing)   \n",
    "    def give_money(self, other, amount):\n",
    "        self.money-=amount\n",
    "        #다른 객체와 상호작용할 때\n",
    "        #다른 객체의 데이터를 조작, 수정해야할 때\n",
    "        #반드시 그 객체가 가지고 있는 함수를 호출해서 데이터를 수정한다.\n",
    "        other.get_money(amount)  #상대방의 변수에 바로 접근하면 안되고, 함수로 접근해야함. \n",
    "\n",
    "    def print_money(self):\n",
    "        print(\"{} has {}\".format(self.name, self.money)\n",
    "\n",
    "\n",
    "# 객체(인스턴스) 생성 /   #choi라는 객체   #person이라는 class로 만들어진 instance (메모리적으로는 동일)\n",
    "choi=Person(20,\"seongwoo\",20000)   \n",
    "nam=Person(19, \"min\",18000)   # 두 객체는 Person이라는 class를 가리키고 있다 (memory적으로 유리)\n",
    "\n",
    "print(choi.get_old())\n",
    "print(nam.get_old())\n",
    "              \n",
    "# 객체의 변수에 직접 접근하는 것은 안됩니다(철칙) 예로들어 yang.money+=4000\n",
    "\n",
    "choi.give_money(nam, 500)\n",
    "\n",
    "choi.print_money()\n",
    "nam.print_money()\n"
   ]
  },
  {
   "cell_type": "code",
   "execution_count": 9,
   "metadata": {},
   "outputs": [
    {
     "name": "stdout",
     "output_type": "stream",
     "text": [
      "yang:3000\n",
      "kim:3000\n"
     ]
    }
   ],
   "source": [
    "class Account:\n",
    "    def __init__(self, customer, balance):\n",
    "        self.customer=customer\n",
    "        self.balance=balance\n",
    "\n",
    "    def deposit(self, amount):\n",
    "        if amount <= 0 :\n",
    "            return\n",
    "        \n",
    "        self.balance+=amount\n",
    "\n",
    "    def withdraw(self, amount):\n",
    "        if amount > self.balance:\n",
    "            print(\"no MONEY!\")\n",
    "            return 0\n",
    "\n",
    "        self.balance-=amount\n",
    "        return amount\n",
    "    \n",
    "    def transfer(self, other,amount):\n",
    "        money=self.withdraw(amount)\n",
    "        #메시지 패싱\n",
    "        other.deposit(money)\n",
    "\n",
    "    def __str__(self): # print했을 때 문자열을 리턴합니다.\n",
    "        return '{}:{}'.format(self.customer,self.balance)\n",
    "    \n",
    "if __name__==\"__main__\":\n",
    "    my_acnt=Account(\"yang\",4000)\n",
    "    your_acnt=Account(\"kim\",2000)\n",
    "\n",
    "    my_acnt.transfer(your_acnt,1000)\n",
    "\n",
    "    print(my_acnt) \n",
    "    print(your_acnt)"
   ]
  },
  {
   "cell_type": "code",
   "execution_count": 10,
   "metadata": {},
   "outputs": [],
   "source": [
    "class Computer:\n",
    "    def __init__(self, cpu, ram):\n",
    "        self.cpu=cpu\n",
    "        self.ram=ram\n",
    "        \n",
    "    def work(self):\n",
    "        print('work')\n",
    "        \n",
    "    def browse(self):\n",
    "        print('browsing')"
   ]
  },
  {
   "cell_type": "markdown",
   "metadata": {},
   "source": [
    "# IS-A"
   ]
  },
  {
   "cell_type": "code",
   "execution_count": 11,
   "metadata": {},
   "outputs": [],
   "source": [
    "# Laptop은 Computer의 모든 멤버와 메서드를 가지게 됩니다.\n",
    "class Laptop(Computer): #괄호 안에 상속하려는 것을 넣어주면됨\n",
    "    # 추가 member가 있을 때 \n",
    "    def __init(self, cpu, ram,battery):\n",
    "        super().__init__(cpu,ram)  #하면 상속하려는 class의 init을 호출\n",
    "        self.battery=battery\n",
    "        \n",
    "    # 추가 method가 있을 때\n",
    "    def move(self, to):\n",
    "        print('move to {}'.format(to))\n"
   ]
  },
  {
   "cell_type": "code",
   "execution_count": 12,
   "metadata": {},
   "outputs": [],
   "source": [
    "mac=Laptop('i5',8)"
   ]
  },
  {
   "cell_type": "code",
   "execution_count": 13,
   "metadata": {},
   "outputs": [
    {
     "data": {
      "text/plain": [
       "'i5'"
      ]
     },
     "execution_count": 13,
     "metadata": {},
     "output_type": "execute_result"
    }
   ],
   "source": [
    "mac.cpu"
   ]
  },
  {
   "cell_type": "code",
   "execution_count": 14,
   "metadata": {},
   "outputs": [
    {
     "data": {
      "text/plain": [
       "8"
      ]
     },
     "execution_count": 14,
     "metadata": {},
     "output_type": "execute_result"
    }
   ],
   "source": [
    "mac.ram"
   ]
  },
  {
   "cell_type": "code",
   "execution_count": 16,
   "metadata": {},
   "outputs": [
    {
     "name": "stdout",
     "output_type": "stream",
     "text": [
      "work\n"
     ]
    }
   ],
   "source": [
    "mac.work()"
   ]
  },
  {
   "cell_type": "markdown",
   "metadata": {},
   "source": [
    "# HAS-A"
   ]
  },
  {
   "cell_type": "code",
   "execution_count": 19,
   "metadata": {},
   "outputs": [],
   "source": [
    "class CPU:\n",
    "    def __init__(self,maker):\n",
    "        self.maker=maker   \n",
    "\n",
    "class RAM:\n",
    "    pass\n",
    "\n",
    "class Computer:\n",
    "    def __init__(self,maker):\n",
    "        self.cpu=CPU(maker)   # class를 이용해 객체를 생성하는 시점에,, member가 객체를 가지게 한다.\n",
    "        self.ram=RAM()\n",
    "        \n",
    "com=Computer('intel')"
   ]
  },
  {
   "cell_type": "code",
   "execution_count": 20,
   "metadata": {},
   "outputs": [],
   "source": [
    "del com"
   ]
  },
  {
   "cell_type": "markdown",
   "metadata": {},
   "source": [
    "# aggregation"
   ]
  },
  {
   "cell_type": "code",
   "execution_count": 30,
   "metadata": {},
   "outputs": [],
   "source": [
    "class Gun:\n",
    "    def __init__(self,kind):\n",
    "        self.kind=kind\n",
    "    \n",
    "    def bbang(self):\n",
    "        print(\"bbang\")\n",
    "        \n",
    "class Police:\n",
    "    def __init__(self,gun=None):\n",
    "        self.gun=gun\n",
    "        \n",
    "    def acquire_gun(self, gun):\n",
    "        self.gun=gun\n",
    "    \n",
    "    def release_gun(self):\n",
    "        gun=self.gun\n",
    "        self.gun=None\n",
    "        return gun\n",
    "    \n",
    "    def shoot(self):\n",
    "        if not self.gun:\n",
    "            print(\"no gun\")\n",
    "        else:\n",
    "            self.gun.bbang()"
   ]
  },
  {
   "cell_type": "code",
   "execution_count": 31,
   "metadata": {},
   "outputs": [],
   "source": [
    "gun=Gun(\"machinegun\")"
   ]
  },
  {
   "cell_type": "code",
   "execution_count": 32,
   "metadata": {},
   "outputs": [],
   "source": [
    "p1=Police()"
   ]
  },
  {
   "cell_type": "code",
   "execution_count": 33,
   "metadata": {},
   "outputs": [],
   "source": [
    "p1.acquire_gun(gun)\n",
    "gun=None"
   ]
  },
  {
   "cell_type": "code",
   "execution_count": 34,
   "metadata": {},
   "outputs": [
    {
     "name": "stdout",
     "output_type": "stream",
     "text": [
      "bbang\n"
     ]
    }
   ],
   "source": [
    "p1.shoot()"
   ]
  },
  {
   "cell_type": "code",
   "execution_count": 35,
   "metadata": {},
   "outputs": [],
   "source": [
    "gun=p1.release_gun()"
   ]
  },
  {
   "cell_type": "code",
   "execution_count": 36,
   "metadata": {},
   "outputs": [
    {
     "name": "stdout",
     "output_type": "stream",
     "text": [
      "no gun\n"
     ]
    }
   ],
   "source": [
    "p1.shoot()"
   ]
  },
  {
   "cell_type": "code",
   "execution_count": null,
   "metadata": {},
   "outputs": [],
   "source": []
  }
 ],
 "metadata": {
  "kernelspec": {
   "display_name": "Python 3",
   "language": "python",
   "name": "python3"
  },
  "language_info": {
   "codemirror_mode": {
    "name": "ipython",
    "version": 3
   },
   "file_extension": ".py",
   "mimetype": "text/x-python",
   "name": "python",
   "nbconvert_exporter": "python",
   "pygments_lexer": "ipython3",
   "version": "3.7.2"
  }
 },
 "nbformat": 4,
 "nbformat_minor": 2
}
