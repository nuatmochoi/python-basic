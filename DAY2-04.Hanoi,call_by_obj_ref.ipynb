{
 "cells": [
  {
   "cell_type": "code",
   "execution_count": 21,
   "metadata": {},
   "outputs": [
    {
     "name": "stdout",
     "output_type": "stream",
     "text": [
      "a에서 c로 1번째 쟁반을 이동\n",
      "a에서 b로 2번째 쟁반을 이동\n",
      "c에서 b로 1번째 쟁반을 이동\n",
      "a에서 c로 3번째 쟁반을 이동\n",
      "b에서 a로 1번째 쟁반을 이동\n",
      "b에서 c로 2번째 쟁반을 이동\n",
      "a에서 c로 1번째 쟁반을 이동\n"
     ]
    }
   ],
   "source": [
    "def hanoi(_from,_by,_to,n):\n",
    "    if n==1:\n",
    "        print(\"{}에서 {}로 {}번째 쟁반을 이동\".format(_from,_to,n))\n",
    "        return\n",
    "    hanoi(_from,_to,_by,n-1)\n",
    "    print(\"{}에서 {}로 {}번째 쟁반을 이동\".format(_from,_to,n))\n",
    "    hanoi(_by,_from,_to,n-1)\n",
    "\n",
    "hanoi('a','b','c',3) # stack frame 그려보고 이해하기"
   ]
  },
  {
   "cell_type": "code",
   "execution_count": 11,
   "metadata": {},
   "outputs": [
    {
     "data": {
      "text/plain": [
       "'가'"
      ]
     },
     "execution_count": 11,
     "metadata": {},
     "output_type": "execute_result"
    }
   ],
   "source": [
    "'\\uAC00'"
   ]
  },
  {
   "cell_type": "code",
   "execution_count": 6,
   "metadata": {},
   "outputs": [
    {
     "data": {
      "text/plain": [
       "'겦'"
      ]
     },
     "execution_count": 6,
     "metadata": {},
     "output_type": "execute_result"
    }
   ],
   "source": [
    "'\\uaca6'"
   ]
  },
  {
   "cell_type": "code",
   "execution_count": 7,
   "metadata": {},
   "outputs": [],
   "source": [
    "a='가'"
   ]
  },
  {
   "cell_type": "code",
   "execution_count": 8,
   "metadata": {},
   "outputs": [
    {
     "data": {
      "text/plain": [
       "b'\\xea\\xb0\\x80'"
      ]
     },
     "execution_count": 8,
     "metadata": {},
     "output_type": "execute_result"
    }
   ],
   "source": [
    "a.encode('utf-8')  #3byte로 표현됨 한글은"
   ]
  },
  {
   "cell_type": "code",
   "execution_count": 9,
   "metadata": {},
   "outputs": [
    {
     "data": {
      "text/plain": [
       "97"
      ]
     },
     "execution_count": 9,
     "metadata": {},
     "output_type": "execute_result"
    }
   ],
   "source": [
    "'a'.encode('utf-8')[0]"
   ]
  },
  {
   "cell_type": "code",
   "execution_count": 10,
   "metadata": {},
   "outputs": [
    {
     "data": {
      "text/plain": [
       "'가'"
      ]
     },
     "execution_count": 10,
     "metadata": {},
     "output_type": "execute_result"
    }
   ],
   "source": [
    "a"
   ]
  },
  {
   "cell_type": "code",
   "execution_count": 12,
   "metadata": {},
   "outputs": [
    {
     "data": {
      "text/plain": [
       "b'\\xff\\xfe\\x00\\xac'"
      ]
     },
     "execution_count": 12,
     "metadata": {},
     "output_type": "execute_result"
    }
   ],
   "source": [
    "a.encode('utf-16')"
   ]
  },
  {
   "cell_type": "code",
   "execution_count": 13,
   "metadata": {},
   "outputs": [
    {
     "data": {
      "text/plain": [
       "b'\\xb0\\xa1'"
      ]
     },
     "execution_count": 13,
     "metadata": {},
     "output_type": "execute_result"
    }
   ],
   "source": [
    "a.encode('cp949') "
   ]
  },
  {
   "cell_type": "code",
   "execution_count": 15,
   "metadata": {},
   "outputs": [
    {
     "data": {
      "text/plain": [
       "b'\\xea\\xb0\\x80'"
      ]
     },
     "execution_count": 15,
     "metadata": {},
     "output_type": "execute_result"
    }
   ],
   "source": [
    "'가'.encode() #default : utf-8  (in python)"
   ]
  },
  {
   "cell_type": "code",
   "execution_count": 16,
   "metadata": {},
   "outputs": [
    {
     "name": "stdout",
     "output_type": "stream",
     "text": [
      "Help on built-in function chr in module builtins:\n",
      "\n",
      "chr(i, /)\n",
      "    Return a Unicode string of one character with ordinal i; 0 <= i <= 0x10ffff.\n",
      "\n"
     ]
    }
   ],
   "source": [
    "help(chr)"
   ]
  },
  {
   "cell_type": "code",
   "execution_count": 17,
   "metadata": {},
   "outputs": [
    {
     "data": {
      "text/plain": [
       "'겦'"
      ]
     },
     "execution_count": 17,
     "metadata": {},
     "output_type": "execute_result"
    }
   ],
   "source": [
    "chr(44198) # code point를 십진수로 넣으면 문자가 출력"
   ]
  },
  {
   "cell_type": "code",
   "execution_count": 18,
   "metadata": {},
   "outputs": [
    {
     "name": "stdout",
     "output_type": "stream",
     "text": [
      "Help on built-in function ord in module builtins:\n",
      "\n",
      "ord(c, /)\n",
      "    Return the Unicode code point for a one-character string.\n",
      "\n"
     ]
    }
   ],
   "source": [
    "help(ord)"
   ]
  },
  {
   "cell_type": "code",
   "execution_count": 19,
   "metadata": {},
   "outputs": [
    {
     "data": {
      "text/plain": [
       "44032"
      ]
     },
     "execution_count": 19,
     "metadata": {},
     "output_type": "execute_result"
    }
   ],
   "source": [
    "ord('가') # 문자를 넣으면 십진수의 code point를 출력"
   ]
  },
  {
   "cell_type": "code",
   "execution_count": 20,
   "metadata": {},
   "outputs": [
    {
     "data": {
      "text/plain": [
       "'0xac00'"
      ]
     },
     "execution_count": 20,
     "metadata": {},
     "output_type": "execute_result"
    }
   ],
   "source": [
    "hex(ord('가'))"
   ]
  },
  {
   "cell_type": "code",
   "execution_count": 26,
   "metadata": {},
   "outputs": [
    {
     "name": "stdout",
     "output_type": "stream",
     "text": [
      "20in change_value\n",
      "10 in change_value\n"
     ]
    }
   ],
   "source": [
    "a=10  # 일반적인 경우에서는 값이 바뀌면 새로운 것을 가리킴. 이전것은 이전 값을 가리킴.   (immutable)\n",
    "def change_value(a,val):\n",
    "    a=val\n",
    "    print(str(a)+\"in change_value\")\n",
    "\n",
    "change_value(a,20)\n",
    "print(str(a)+\" in change_value\")"
   ]
  },
  {
   "cell_type": "code",
   "execution_count": 27,
   "metadata": {},
   "outputs": [],
   "source": [
    "li=[1,2,3] #list에서는 list 자체를 assign 하는 것이 아니라 index가 가리키는 것만 달라지고, frame의 li가 가리키는 list자체는 동일\n",
    "def change_value(li,idx,val):\n",
    "    li[idx]=val\n",
    "    print(li) # dictionary도 똑같다.   mutable은 아예 불가능(tuple)"
   ]
  },
  {
   "cell_type": "code",
   "execution_count": 28,
   "metadata": {},
   "outputs": [
    {
     "name": "stdout",
     "output_type": "stream",
     "text": [
      "[1, 300, 3]\n",
      "[1, 300, 3]\n"
     ]
    }
   ],
   "source": [
    "change_value(li,1,300)\n",
    "print(li) #mutable"
   ]
  },
  {
   "cell_type": "code",
   "execution_count": 29,
   "metadata": {},
   "outputs": [
    {
     "name": "stdout",
     "output_type": "stream",
     "text": [
      "20in change_value\n",
      "20 in change_value\n"
     ]
    }
   ],
   "source": [
    "a=10  # 일반적인 경우에서는 값이 바뀌면 새로운 것을 가리킴. 이전것은 이전 값을 가리킴.\n",
    "def change_value(a,val):\n",
    "    a=val\n",
    "    print(str(a)+\"in change_value\")\n",
    "    return a\n",
    "\n",
    "a= change_value(a,20)     #값을 바꾸고 싶으면 이렇게 하여라.\n",
    "print(str(a)+\" in change_value\")"
   ]
  },
  {
   "cell_type": "code",
   "execution_count": 30,
   "metadata": {},
   "outputs": [],
   "source": [
    "import copy\n",
    "li=[1,2,3] #list에서는 list 자체를 assign 하는 것이 아니라 index가 가리키는 것만 달라지고, frame의 li가 가리키는 list자체는 동일\n",
    "def change_value(li,idx,val):\n",
    "    li=copy.deepcopy(li) # 바뀌게 하려면 이렇게 해야함.   #shallow copy는 값이 참조하게끔하는 거고 이거는 아예 따로 만듬.\n",
    "    li[idx]=val\n",
    "    print(li) # dictionary도 똑같다.   m"
   ]
  },
  {
   "cell_type": "code",
   "execution_count": 31,
   "metadata": {},
   "outputs": [
    {
     "name": "stdout",
     "output_type": "stream",
     "text": [
      "[1, 300, 3]\n",
      "[1, 2, 3]\n"
     ]
    }
   ],
   "source": [
    "change_value(li,1,300)\n",
    "print(li)"
   ]
  },
  {
   "cell_type": "code",
   "execution_count": null,
   "metadata": {},
   "outputs": [],
   "source": []
  },
  {
   "cell_type": "code",
   "execution_count": null,
   "metadata": {},
   "outputs": [],
   "source": []
  }
 ],
 "metadata": {
  "kernelspec": {
   "display_name": "Python 3",
   "language": "python",
   "name": "python3"
  },
  "language_info": {
   "codemirror_mode": {
    "name": "ipython",
    "version": 3
   },
   "file_extension": ".py",
   "mimetype": "text/x-python",
   "name": "python",
   "nbconvert_exporter": "python",
   "pygments_lexer": "ipython3",
   "version": "3.7.2"
  }
 },
 "nbformat": 4,
 "nbformat_minor": 2
}
