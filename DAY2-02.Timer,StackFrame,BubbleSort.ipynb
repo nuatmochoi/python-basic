{
 "cells": [
  {
   "cell_type": "code",
   "execution_count": 6,
   "metadata": {},
   "outputs": [],
   "source": [
    "import time\n",
    "from functools import wraps\n",
    "def benchmaker(org_func):\n",
    "    @wraps(org_func)\n",
    "    def inner(*args, **kwargs):\n",
    "        start=time.time() #현재 시간을 초단위로 : 에포치(epoch:1970년 1월 1일 0시)\n",
    "                             #로 부터 지난 시간을 초 단위로\n",
    "        result=org_func(*args,**kwargs)\n",
    "        elapsed=time.time()-start\n",
    "        print(\"elapsed time: {}\".format(round(elapsed,1)))\n",
    "        return result\n",
    "    return inner"
   ]
  },
  {
   "cell_type": "code",
   "execution_count": 7,
   "metadata": {},
   "outputs": [],
   "source": [
    "@benchmaker\n",
    "def func(a,b): #wraps를 붙여서 func가 inner가 되지 않고, 계속 func 자체로 존재함\n",
    "    time.sleep(5)\n",
    "    return a+b\n",
    "\n",
    "# 현업에서도 벤치마크 쓸 때 이렇게 사용함"
   ]
  },
  {
   "cell_type": "code",
   "execution_count": 8,
   "metadata": {},
   "outputs": [
    {
     "name": "stdout",
     "output_type": "stream",
     "text": [
      "elapsed time: 5.0\n"
     ]
    },
    {
     "data": {
      "text/plain": [
       "3"
      ]
     },
     "execution_count": 8,
     "metadata": {},
     "output_type": "execute_result"
    }
   ],
   "source": [
    "func(1,2)"
   ]
  },
  {
   "cell_type": "code",
   "execution_count": 9,
   "metadata": {},
   "outputs": [],
   "source": [
    "a=43"
   ]
  },
  {
   "cell_type": "code",
   "execution_count": 10,
   "metadata": {},
   "outputs": [
    {
     "data": {
      "text/plain": [
       "b'+'"
      ]
     },
     "execution_count": 10,
     "metadata": {},
     "output_type": "execute_result"
    }
   ],
   "source": [
    "a.to_bytes(1, 'little', signed=True)"
   ]
  },
  {
   "cell_type": "code",
   "execution_count": 11,
   "metadata": {},
   "outputs": [
    {
     "data": {
      "text/plain": [
       "b'\\x19'"
      ]
     },
     "execution_count": 11,
     "metadata": {},
     "output_type": "execute_result"
    }
   ],
   "source": [
    "a=25\n",
    "a.to_bytes(1, 'little', signed=True)"
   ]
  },
  {
   "cell_type": "code",
   "execution_count": 12,
   "metadata": {},
   "outputs": [],
   "source": [
    "# 전역 변수(global variable)\n",
    "a=10\n",
    "def f():\n",
    "    # 지역 변수 (local variable)\n",
    "    b=20 "
   ]
  },
  {
   "cell_type": "code",
   "execution_count": 13,
   "metadata": {},
   "outputs": [],
   "source": [
    "f() "
   ]
  },
  {
   "cell_type": "code",
   "execution_count": 18,
   "metadata": {},
   "outputs": [],
   "source": [
    "a=10\n",
    "def f():\n",
    "    global a\n",
    "    a=20\n",
    "    print(a)"
   ]
  },
  {
   "cell_type": "code",
   "execution_count": 19,
   "metadata": {},
   "outputs": [
    {
     "name": "stdout",
     "output_type": "stream",
     "text": [
      "20\n"
     ]
    }
   ],
   "source": [
    "f()"
   ]
  },
  {
   "cell_type": "code",
   "execution_count": 20,
   "metadata": {},
   "outputs": [
    {
     "data": {
      "text/plain": [
       "20"
      ]
     },
     "execution_count": 20,
     "metadata": {},
     "output_type": "execute_result"
    }
   ],
   "source": [
    "a"
   ]
  },
  {
   "cell_type": "code",
   "execution_count": 29,
   "metadata": {},
   "outputs": [],
   "source": [
    "a=10\n",
    "def f1():\n",
    "    b=20\n",
    "    def f2():\n",
    "        a=111 #올라가다가 찾으면 그것을 출력함\n",
    "        c=30\n",
    "        def f3(): #공간자체를 name space라고 함\n",
    "            nonlocal b  #지역변수도 아니야, 전역변수도 아니야.\n",
    "            b=500\n",
    "            d=40\n",
    "            print(a,b,c,d) # 자기 공간에 변수가 없으면 위로 올라가서 더 큰 공간에서 찾음\n",
    "        f3()\n",
    "    f2()\n",
    "    print(b)"
   ]
  },
  {
   "cell_type": "code",
   "execution_count": 30,
   "metadata": {},
   "outputs": [
    {
     "name": "stdout",
     "output_type": "stream",
     "text": [
      "111 500 30 40\n",
      "500\n"
     ]
    }
   ],
   "source": [
    "f1()"
   ]
  },
  {
   "cell_type": "code",
   "execution_count": 33,
   "metadata": {},
   "outputs": [],
   "source": [
    "a=10\n",
    "b=20\n",
    "def func(a,b):\n",
    "    a+=10\n",
    "    b+=10\n",
    "    print(\"{},{} in func\".format(a,b))\n",
    "    "
   ]
  },
  {
   "cell_type": "code",
   "execution_count": 34,
   "metadata": {},
   "outputs": [
    {
     "name": "stdout",
     "output_type": "stream",
     "text": [
      "20,30 in func\n"
     ]
    }
   ],
   "source": [
    "func(a,b)"
   ]
  },
  {
   "cell_type": "code",
   "execution_count": 35,
   "metadata": {},
   "outputs": [
    {
     "name": "stdout",
     "output_type": "stream",
     "text": [
      "10 20\n"
     ]
    }
   ],
   "source": [
    "print(a,b)"
   ]
  },
  {
   "cell_type": "code",
   "execution_count": 49,
   "metadata": {},
   "outputs": [],
   "source": [
    "li=[7,4,2,9]\n",
    "def bubble_sort(li):\n",
    "    n=len(li)\n",
    "    for i in range(n-1):\n",
    "        for j in range(n-1-i):\n",
    "            if li[j]>li[j+1]:\n",
    "                li[j],li[j+1]=li[j+1],li[j]\n",
    "    "
   ]
  },
  {
   "cell_type": "code",
   "execution_count": 50,
   "metadata": {},
   "outputs": [],
   "source": [
    "bubble_sort(li)"
   ]
  },
  {
   "cell_type": "code",
   "execution_count": 51,
   "metadata": {},
   "outputs": [
    {
     "data": {
      "text/plain": [
       "[2, 4, 7, 9]"
      ]
     },
     "execution_count": 51,
     "metadata": {},
     "output_type": "execute_result"
    }
   ],
   "source": [
    "li"
   ]
  },
  {
   "cell_type": "code",
   "execution_count": 18,
   "metadata": {},
   "outputs": [],
   "source": [
    "def binary_search(li, target):\n",
    "    \"\"\"\n",
    "    binary_search(list,target)->idx\n",
    "    list : 정렬된 data list\n",
    "    target: 찾고자 하는 요소\n",
    "    반환값 : 찾은 요소의 index, 없다면 None을 반환\n",
    "    \"\"\"\n",
    "    count=0\n",
    "    start=0\n",
    "    end=len(li)-1\n",
    "    for i in range(len(li)):\n",
    "        if li[i]==target:\n",
    "            count+=1\n",
    "    while start<=end:\n",
    "        mid=(start+end)//2\n",
    "        if target==li[mid]:\n",
    "            return li.index(target)\n",
    "        elif target>li[mid]:\n",
    "            start=mid+1\n",
    "        else:\n",
    "            end=mid-1\n",
    "    return None # None조차 객체이다.\n"
   ]
  },
  {
   "cell_type": "code",
   "execution_count": 19,
   "metadata": {},
   "outputs": [
    {
     "name": "stdout",
     "output_type": "stream",
     "text": [
      "Help on function binary_search in module __main__:\n",
      "\n",
      "binary_search(li, target)\n",
      "    binary_search(list,target)->idx\n",
      "    list : 정렬된 data list\n",
      "    target: 찾고자 하는 요소\n",
      "    반환값 : 찾은 요소의 index, 없다면 None을 반환\n",
      "\n"
     ]
    }
   ],
   "source": [
    "help(binary_search)"
   ]
  },
  {
   "cell_type": "code",
   "execution_count": 22,
   "metadata": {},
   "outputs": [],
   "source": [
    "li=[2,4,7,12,15,17]     "
   ]
  },
  {
   "cell_type": "code",
   "execution_count": 23,
   "metadata": {},
   "outputs": [
    {
     "data": {
      "text/plain": [
       "0"
      ]
     },
     "execution_count": 23,
     "metadata": {},
     "output_type": "execute_result"
    }
   ],
   "source": [
    "binary_search(li,2) "
   ]
  },
  {
   "cell_type": "code",
   "execution_count": null,
   "metadata": {},
   "outputs": [],
   "source": []
  }
 ],
 "metadata": {
  "kernelspec": {
   "display_name": "Python 3",
   "language": "python",
   "name": "python3"
  },
  "language_info": {
   "codemirror_mode": {
    "name": "ipython",
    "version": 3
   },
   "file_extension": ".py",
   "mimetype": "text/x-python",
   "name": "python",
   "nbconvert_exporter": "python",
   "pygments_lexer": "ipython3",
   "version": "3.7.2"
  }
 },
 "nbformat": 4,
 "nbformat_minor": 2
}
