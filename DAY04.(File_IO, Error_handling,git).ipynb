{
 "cells": [
  {
   "cell_type": "code",
   "execution_count": 7,
   "metadata": {},
   "outputs": [],
   "source": [
    "def is_leap(year):\n",
    "    if isinstance(year,int) and year>0:\n",
    "        result=\"\"\n",
    "        if year%400==0: # and와 or을 이용해서 if 문 하나로 abstract (if + elif + elif)\n",
    "            result=\"윤년\"\n",
    "        elif year%100==0: # 100년이 아닌 경우랑 묶어서하면됨\n",
    "            result=\"평년\"\n",
    "        elif year%4==0:\n",
    "            result=\"윤년\"\n",
    "        else:\n",
    "            result=\"평년\"\n",
    "        return \"{}년은 {}입니다.\".format(year,result)\n",
    "    elif isinstance(year,int) and year<=0:\n",
    "        return \"연도는 AD여야 합니다.(양의 정수)\"\n",
    "    else:\n",
    "        return \"정수를 입력해야 합니다.\""
   ]
  },
  {
   "cell_type": "code",
   "execution_count": 8,
   "metadata": {},
   "outputs": [
    {
     "data": {
      "text/plain": [
       "'정수를 입력해야 합니다.'"
      ]
     },
     "execution_count": 8,
     "metadata": {},
     "output_type": "execute_result"
    }
   ],
   "source": [
    "is_leap(\"hi\")"
   ]
  },
  {
   "cell_type": "code",
   "execution_count": 16,
   "metadata": {},
   "outputs": [
    {
     "name": "stdout",
     "output_type": "stream",
     "text": [
      "stay:3389(0.3389),switch:6611(0.6611)\n"
     ]
    }
   ],
   "source": [
    "# Monty Hall Problem\n",
    "import random\n",
    "\n",
    "stay=0\n",
    "switch=0\n",
    "trial=10000\n",
    "\n",
    "for _ in range(trial):\n",
    "    doors=[0,0,1] #염소 2마리, 스포츠카 1대\n",
    "    random.shuffle(doors)\n",
    "    \n",
    "    choice=random.randrange(3)\n",
    "    user=doors.pop(choice)\n",
    "    \n",
    "    if user==1:\n",
    "        stay+=1\n",
    "    else:\n",
    "        switch+=1\n",
    "        \n",
    "print(\"stay:{0}({1}),switch:{2}({3})\".format(\n",
    "    stay, stay/trial, switch, switch/trial))"
   ]
  },
  {
   "cell_type": "code",
   "execution_count": 24,
   "metadata": {},
   "outputs": [],
   "source": [
    "def recurse_beast(n):\n",
    "    if n==0:\n",
    "        return \"Recurse complete!\"\n",
    "    else:\n",
    "        print(\"Fusion! ({} times left)\".format(n-1))\n",
    "    return recurse_beast(n-1)"
   ]
  },
  {
   "cell_type": "code",
   "execution_count": 25,
   "metadata": {},
   "outputs": [
    {
     "name": "stdout",
     "output_type": "stream",
     "text": [
      "How many times do you want to curse beast?10\n",
      "Fusion! (9 times left)\n",
      "Fusion! (8 times left)\n",
      "Fusion! (7 times left)\n",
      "Fusion! (6 times left)\n",
      "Fusion! (5 times left)\n",
      "Fusion! (4 times left)\n",
      "Fusion! (3 times left)\n",
      "Fusion! (2 times left)\n",
      "Fusion! (1 times left)\n",
      "Fusion! (0 times left)\n"
     ]
    },
    {
     "data": {
      "text/plain": [
       "'Recurse complete!'"
      ]
     },
     "execution_count": 25,
     "metadata": {},
     "output_type": "execute_result"
    }
   ],
   "source": [
    "trial= int(input(\"How many times do you want to curse beast?\"))\n",
    "recurse_beast(trial)"
   ]
  },
  {
   "cell_type": "code",
   "execution_count": 26,
   "metadata": {},
   "outputs": [],
   "source": [
    "# binet's theorem(recursive하지 않게 푸는 방법)\n",
    "# recursive -> 피보나치 푸는 두가지 방법"
   ]
  },
  {
   "cell_type": "code",
   "execution_count": 27,
   "metadata": {},
   "outputs": [
    {
     "data": {
      "text/plain": [
       "[2, 4, 6, 8, 10, 12, 14, 16, 18, 20]"
      ]
     },
     "execution_count": 27,
     "metadata": {},
     "output_type": "execute_result"
    }
   ],
   "source": [
    "# List Comprehension\n",
    "old_list=list(range(1,10+1)) #[1,2,3,4,5,6,7,8,9,10]\n",
    "\n",
    "new_list=[]\n",
    "\n",
    "for item in old_list:\n",
    "    result=item*2\n",
    "    new_list.append(result)\n",
    "    \n",
    "new_list #[2,4,6,8,10,....]"
   ]
  },
  {
   "cell_type": "code",
   "execution_count": 28,
   "metadata": {},
   "outputs": [
    {
     "data": {
      "text/plain": [
       "[2, 4, 6, 8, 10, 12, 14, 16, 18, 20]"
      ]
     },
     "execution_count": 28,
     "metadata": {},
     "output_type": "execute_result"
    }
   ],
   "source": [
    "new_list=[item*2 for item in old_list] #반복문에서 하고싶은일을 그앞에 적어주면 된다. 람다익스프레션..\n",
    "new_list"
   ]
  },
  {
   "cell_type": "code",
   "execution_count": 32,
   "metadata": {},
   "outputs": [
    {
     "data": {
      "text/plain": [
       "[4, 8, 12, 16, 20]"
      ]
     },
     "execution_count": 32,
     "metadata": {},
     "output_type": "execute_result"
    }
   ],
   "source": [
    "# List Comprehension\n",
    "old_list=list(range(1,10+1)) #[1,2,3,4,5,6,7,8,9,10]\n",
    "\n",
    "new_list=[]\n",
    "\n",
    "for item in old_list:\n",
    "    if item%2==0:\n",
    "        result=item*2\n",
    "        new_list.append(result)\n",
    "    \n",
    "new_list #[2,4,6,8,10,....]"
   ]
  },
  {
   "cell_type": "code",
   "execution_count": 40,
   "metadata": {},
   "outputs": [
    {
     "data": {
      "text/plain": [
       "[4, 8, 12, 16, 20]"
      ]
     },
     "execution_count": 40,
     "metadata": {},
     "output_type": "execute_result"
    }
   ],
   "source": [
    "new_list=[item*2 for item in old_list if item%2==0]\n",
    "new_list"
   ]
  },
  {
   "cell_type": "code",
   "execution_count": 41,
   "metadata": {},
   "outputs": [
    {
     "data": {
      "text/plain": [
       "[1, 4, 9, 8, 25, 12, 49, 16, 81, 20]"
      ]
     },
     "execution_count": 41,
     "metadata": {},
     "output_type": "execute_result"
    }
   ],
   "source": [
    "old_list=list(range(1,10+1)) #[1,2,3,4,5,6,7,8,9,10]\n",
    "\n",
    "new_list=[]\n",
    "\n",
    "for item in old_list:\n",
    "    if item%2==0:\n",
    "        new_list.append(item*2)\n",
    "    else:\n",
    "        new_list.append(item**2)\n",
    "    \n",
    "new_list #[2,4,6,8,10,....]"
   ]
  },
  {
   "cell_type": "code",
   "execution_count": 45,
   "metadata": {},
   "outputs": [
    {
     "data": {
      "text/plain": [
       "[1, 4, 9, 8, 25, 12, 49, 16, 81, 20]"
      ]
     },
     "execution_count": 45,
     "metadata": {},
     "output_type": "execute_result"
    }
   ],
   "source": [
    "new_list=[item*2 if item%2==0 else item**2 for item in old_list]\n",
    "new_list"
   ]
  },
  {
   "cell_type": "code",
   "execution_count": 46,
   "metadata": {},
   "outputs": [
    {
     "data": {
      "text/plain": [
       "'b'"
      ]
     },
     "execution_count": 46,
     "metadata": {},
     "output_type": "execute_result"
    }
   ],
   "source": [
    "\"a\" if False else \"b\" #3항 연산자"
   ]
  },
  {
   "cell_type": "code",
   "execution_count": 47,
   "metadata": {},
   "outputs": [],
   "source": [
    "\"a\" if Flase else \"b\" if True else \"c\""
   ]
  },
  {
   "cell_type": "code",
   "execution_count": 48,
   "metadata": {},
   "outputs": [],
   "source": [
    "if True:\n",
    "    \"a\"\n",
    "else:\n",
    "    if True:\n",
    "        \"b\"\n",
    "    else:\n",
    "        \"c\""
   ]
  },
  {
   "cell_type": "code",
   "execution_count": 57,
   "metadata": {},
   "outputs": [
    {
     "data": {
      "text/plain": [
       "[1,\n",
       " 2,\n",
       " 'Fizz',\n",
       " 4,\n",
       " 'Buzz',\n",
       " 'Fizz',\n",
       " 7,\n",
       " 8,\n",
       " 'Fizz',\n",
       " 'Buzz',\n",
       " 11,\n",
       " 'Fizz',\n",
       " 13,\n",
       " 14,\n",
       " 'FizzBuzz',\n",
       " 16,\n",
       " 17,\n",
       " 'Fizz',\n",
       " 19,\n",
       " 'Buzz',\n",
       " 'Fizz',\n",
       " 22,\n",
       " 23,\n",
       " 'Fizz',\n",
       " 'Buzz',\n",
       " 26,\n",
       " 'Fizz',\n",
       " 28,\n",
       " 29,\n",
       " 'FizzBuzz',\n",
       " 31,\n",
       " 32,\n",
       " 'Fizz',\n",
       " 34,\n",
       " 'Buzz',\n",
       " 'Fizz',\n",
       " 37,\n",
       " 38,\n",
       " 'Fizz',\n",
       " 'Buzz',\n",
       " 41,\n",
       " 'Fizz',\n",
       " 43,\n",
       " 44,\n",
       " 'FizzBuzz',\n",
       " 46,\n",
       " 47,\n",
       " 'Fizz',\n",
       " 49,\n",
       " 'Buzz',\n",
       " 'Fizz',\n",
       " 52,\n",
       " 53,\n",
       " 'Fizz',\n",
       " 'Buzz',\n",
       " 56,\n",
       " 'Fizz',\n",
       " 58,\n",
       " 59,\n",
       " 'FizzBuzz',\n",
       " 61,\n",
       " 62,\n",
       " 'Fizz',\n",
       " 64,\n",
       " 'Buzz',\n",
       " 'Fizz',\n",
       " 67,\n",
       " 68,\n",
       " 'Fizz',\n",
       " 'Buzz',\n",
       " 71,\n",
       " 'Fizz',\n",
       " 73,\n",
       " 74,\n",
       " 'FizzBuzz',\n",
       " 76,\n",
       " 77,\n",
       " 'Fizz',\n",
       " 79,\n",
       " 'Buzz',\n",
       " 'Fizz',\n",
       " 82,\n",
       " 83,\n",
       " 'Fizz',\n",
       " 'Buzz',\n",
       " 86,\n",
       " 'Fizz',\n",
       " 88,\n",
       " 89,\n",
       " 'FizzBuzz',\n",
       " 91,\n",
       " 92,\n",
       " 'Fizz',\n",
       " 94,\n",
       " 'Buzz',\n",
       " 'Fizz',\n",
       " 97,\n",
       " 98,\n",
       " 'Fizz',\n",
       " 'Buzz']"
      ]
     },
     "execution_count": 57,
     "metadata": {},
     "output_type": "execute_result"
    }
   ],
   "source": [
    "#fizzbuzz with list comprehension\n",
    "fizzbuzz_list=[\"FizzBuzz\" if i%15==0 else\n",
    "               \"Fizz\" if i%3==0 else\n",
    "               \"Buzz\" if i%5==0 else \n",
    "               i for i in range(1,100+1)] #출력형식이 list라는 약점이 있다.\n",
    "fizzbuzz_list"
   ]
  },
  {
   "cell_type": "code",
   "execution_count": 59,
   "metadata": {},
   "outputs": [],
   "source": [
    "some_dict={v:k for v,k in {1:\"a\",2:\"c\"}.items()} #dictionary_comprehension"
   ]
  },
  {
   "cell_type": "code",
   "execution_count": 61,
   "metadata": {},
   "outputs": [],
   "source": [
    "#File I/O\n",
    "f=open('./newfile.txt','w')  # ./-> 현재폴더\n",
    "f.close() # f,g,h..."
   ]
  },
  {
   "cell_type": "code",
   "execution_count": 63,
   "metadata": {},
   "outputs": [],
   "source": [
    "f=open('./newfile.txt','w')\n",
    "f.write(\"Hello, there! \\n\")\n",
    "f.close()"
   ]
  },
  {
   "cell_type": "code",
   "execution_count": 67,
   "metadata": {},
   "outputs": [],
   "source": [
    "f=open('./newfile.txt','w') # write 모드에서는 커서가 처음부터\n",
    "for i in range(1,10+1):\n",
    "    f.write('Hello, \\t{}th line!\\n'.format(i))\n",
    "f.close()"
   ]
  },
  {
   "cell_type": "code",
   "execution_count": 70,
   "metadata": {},
   "outputs": [],
   "source": [
    "f=open('./newfile.txt','a') # append 모드에서는 커서가 문자의 끝부터\n",
    "\n",
    "for i in range(11,20+1):\n",
    "    f.write(\"Hello, Another \\t{}th line!\\n\".format(i))\n",
    "    \n",
    "f.close()"
   ]
  },
  {
   "cell_type": "code",
   "execution_count": 71,
   "metadata": {},
   "outputs": [
    {
     "name": "stdout",
     "output_type": "stream",
     "text": [
      "Hello, \t1th line!\n",
      "\n"
     ]
    }
   ],
   "source": [
    "f=open('./newfile.txt','r')\n",
    "\n",
    "text=f.readline()\n",
    "print(text)\n",
    "\n",
    "f.close()"
   ]
  },
  {
   "cell_type": "code",
   "execution_count": 78,
   "metadata": {},
   "outputs": [
    {
     "name": "stdout",
     "output_type": "stream",
     "text": [
      "Hello, 1th line!\n",
      "Hello, 2th line!\n",
      "Hello, 3th line!\n",
      "Hello, 4th line!\n",
      "Hello, 5th line!\n",
      "Hello, 6th line!\n",
      "Hello, 7th line!\n",
      "Hello, 8th line!\n",
      "Hello, 9th line!\n",
      "Hello, 10th line!\n",
      "Hello, Another 11th line!Hello, Another 12th line!Hello, Another 13th line!Hello, Another 14th line!Hello, Another 15th line!Hello, Another 16th line!Hello, Another 17th line!Hello, Another 18th line!Hello, Another 19th line!Hello, Another 20th line!Hello, Another 11th line!\n",
      "Hello, Another 12th line!\n",
      "Hello, Another 13th line!\n",
      "Hello, Another 14th line!\n",
      "Hello, Another 15th line!\n",
      "Hello, Another 16th line!\n",
      "Hello, Another 17th line!\n",
      "Hello, Another 18th line!\n",
      "Hello, Another 19th line!\n",
      "Hello, Another 20th line!\n"
     ]
    }
   ],
   "source": [
    "with open('./newfile.txt','r') as f:   # open+close   열어서 f로 할당하겠다.\n",
    "    text=f.readlines()\n",
    "    for line in text:\n",
    "        print(line.replace('\\n','').replace('\\t',''))"
   ]
  },
  {
   "cell_type": "code",
   "execution_count": 85,
   "metadata": {},
   "outputs": [],
   "source": [
    "# Error handle\n",
    "def number_parser():\n",
    "    try:\n",
    "        your_number=int(input(\"type the number 1 to 100:\"))\n",
    "    except ValueError as e:  # as~ : 생략가능\n",
    "        print(\"I SAID NUMBER!!!!!!!!!!!!!!!!!!!!!!!!!!\")\n",
    "        number_parser()\n",
    "    except SyntaxError as dog:  # error 쌓는 database를 따로 이것으로 쌓음\n",
    "        print(\"I Think My lord had mistake...\")\n",
    "    finally: #try로 가든, except로 빠지든, 최종적으로 실행하는 것\n",
    "        print(\"I don't know if it done..\")\n",
    "        print(\"however, i'm 실행!\")\n",
    "\n"
   ]
  },
  {
   "cell_type": "code",
   "execution_count": 86,
   "metadata": {},
   "outputs": [
    {
     "name": "stdout",
     "output_type": "stream",
     "text": [
      "type the number 1 to 100:안녕\n",
      "I SAID NUMBER!!!!!!!!!!!!!!!!!!!!!!!!!!\n",
      "type the number 1 to 100:1\n",
      "I don't know if it done..\n",
      "however, i'm 실행!\n",
      "I don't know if it done..\n",
      "however, i'm 실행!\n"
     ]
    }
   ],
   "source": [
    "number_parser()"
   ]
  },
  {
   "cell_type": "code",
   "execution_count": null,
   "metadata": {},
   "outputs": [],
   "source": []
  }
 ],
 "metadata": {
  "kernelspec": {
   "display_name": "Python 3",
   "language": "python",
   "name": "python3"
  },
  "language_info": {
   "codemirror_mode": {
    "name": "ipython",
    "version": 3
   },
   "file_extension": ".py",
   "mimetype": "text/x-python",
   "name": "python",
   "nbconvert_exporter": "python",
   "pygments_lexer": "ipython3",
   "version": "3.7.2"
  }
 },
 "nbformat": 4,
 "nbformat_minor": 2
}
